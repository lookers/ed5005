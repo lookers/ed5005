{
 "cells": [
  {
   "cell_type": "markdown",
   "metadata": {},
   "source": [
    "Inspired by https://github.com/Mahmoud-Elbattah/Predicting_ASD/blob/master/cropping.py"
   ]
  },
  {
   "cell_type": "code",
   "execution_count": 1,
   "metadata": {
    "colab": {
     "base_uri": "https://localhost:8080/",
     "height": 122
    },
    "id": "lyIld6blNNlZ",
    "outputId": "a9713eaf-2fa9-4554-c027-4245f292d648"
   },
   "outputs": [
    {
     "ename": "ModuleNotFoundError",
     "evalue": "No module named 'google'",
     "output_type": "error",
     "traceback": [
      "\u001b[0;31m---------------------------------------------------------------------------\u001b[0m",
      "\u001b[0;31mModuleNotFoundError\u001b[0m                       Traceback (most recent call last)",
      "\u001b[0;32m<ipython-input-1-d5df0069828e>\u001b[0m in \u001b[0;36m<module>\u001b[0;34m\u001b[0m\n\u001b[0;32m----> 1\u001b[0;31m \u001b[0;32mfrom\u001b[0m \u001b[0mgoogle\u001b[0m\u001b[0;34m.\u001b[0m\u001b[0mcolab\u001b[0m \u001b[0;32mimport\u001b[0m \u001b[0mdrive\u001b[0m\u001b[0;34m\u001b[0m\u001b[0;34m\u001b[0m\u001b[0m\n\u001b[0m\u001b[1;32m      2\u001b[0m \u001b[0mdrive\u001b[0m\u001b[0;34m.\u001b[0m\u001b[0mmount\u001b[0m\u001b[0;34m(\u001b[0m\u001b[0;34m'/content/drive'\u001b[0m\u001b[0;34m)\u001b[0m\u001b[0;34m\u001b[0m\u001b[0;34m\u001b[0m\u001b[0m\n",
      "\u001b[0;31mModuleNotFoundError\u001b[0m: No module named 'google'"
     ]
    }
   ],
   "source": [
    "from google.colab import drive\n",
    "drive.mount('/content/drive')"
   ]
  },
  {
   "cell_type": "code",
   "execution_count": null,
   "metadata": {
    "id": "ISNamxU-NwYA"
   },
   "outputs": [],
   "source": [
    "import cv2\n",
    "import glob, os\n",
    "\n",
    "negDir = '/content/drive/My Drive/images_cropped/neg/'\n",
    "posDir = '/content/drive/My Drive/images_cropped/pos/'\n",
    "imgDim = 124\n",
    "for imgFile in glob.iglob('/content/drive/My Drive/images/**/*.png', recursive=True):\n",
    "    #print(imgFile)\n",
    "    imgID = os.path.basename(imgFile).split(\".png\")[0]\n",
    "\n",
    "    img = cv2.imread(imgFile)\n",
    "    grayImg = cv2.cvtColor(img, cv2.COLOR_BGR2GRAY)\n",
    "\n",
    "    #Thresholding\n",
    "    th, threshed = cv2.threshold(grayImg, 0, 255, cv2.THRESH_BINARY)\n",
    "    #Find the max-area contour\n",
    "    contours, hierarchy = cv2.findContours(threshed, cv2.RETR_EXTERNAL, cv2.CHAIN_APPROX_SIMPLE)\n",
    "    cnt = sorted(contours, key=cv2.contourArea)[-1]\n",
    "    x, y, w, h = cv2.boundingRect(cnt)\n",
    "    imgCropped = img[y:y + h, x:x + w]#Cropped image\n",
    "\n",
    "    imgCropped = cv2.resize(imgCropped, (imgDim, imgDim))#resize\n",
    "    #Saving cropped image\n",
    "    if 'neg' in imgFile:\n",
    "        cv2.imwrite(negDir + imgID + '.jpg', imgCropped, [int(cv2.IMWRITE_JPEG_QUALITY), 100])\n",
    "    elif 'pos'in imgFile:\n",
    "        cv2.imwrite(posDir + imgID + '.jpg', imgCropped, [int(cv2.IMWRITE_JPEG_QUALITY), 100])"
   ]
  }
 ],
 "metadata": {
  "colab": {
   "name": "Cropping_1.ipynb",
   "provenance": []
  },
  "kernelspec": {
   "display_name": "Python 3",
   "language": "python",
   "name": "python3"
  },
  "language_info": {
   "codemirror_mode": {
    "name": "ipython",
    "version": 3
   },
   "file_extension": ".py",
   "mimetype": "text/x-python",
   "name": "python",
   "nbconvert_exporter": "python",
   "pygments_lexer": "ipython3",
   "version": "3.7.4"
  }
 },
 "nbformat": 4,
 "nbformat_minor": 1
}
